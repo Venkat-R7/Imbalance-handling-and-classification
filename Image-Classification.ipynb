{
 "cells": [
  {
   "cell_type": "markdown",
   "id": "669f17e3",
   "metadata": {},
   "source": [
    "# Imbalance handling and classification"
   ]
  },
  {
   "cell_type": "markdown",
   "id": "87e25566",
   "metadata": {},
   "source": [
    "## Step 1 - Required Libraries\n",
    "The libraries required for performing different tasks through this project are imported"
   ]
  },
  {
   "cell_type": "code",
   "execution_count": 253,
   "id": "2d2058c2",
   "metadata": {},
   "outputs": [],
   "source": [
    "## Genral computational requirements\n",
    "import pandas as pd\n",
    "import numpy as np\n",
    "\n",
    "## Prepocessing requirements\n",
    "from sklearn.preprocessing import StandardScaler\n",
    "from sklearn.preprocessing import OneHotEncoder\n",
    "from sklearn import model_selection\n",
    "from imblearn.over_sampling import SMOTE\n",
    "\n",
    "## Visualisation requirements\n",
    "from matplotlib import pyplot as plt\n",
    "from sklearn.metrics import ConfusionMatrixDisplay\n",
    "\n",
    "## Model building and evaluation requirements\n",
    "from sklearn import model_selection\n",
    "from sklearn.metrics import confusion_matrix\n",
    "from sklearn.model_selection import cross_val_score\n",
    "\n",
    "from sklearn.ensemble import RandomForestClassifier\n",
    "from sklearn.neighbors import KNeighborsClassifier\n",
    "from sklearn.naive_bayes import BernoulliNB\n",
    "from sklearn.svm import SVC\n",
    "\n",
    "## Hyper parameter tuning\n",
    "from sklearn.model_selection import GridSearchCV\n"
   ]
  },
  {
   "cell_type": "markdown",
   "id": "81f0dc79",
   "metadata": {},
   "source": [
    "## Step 2 -Import the dataset to dataframe\n",
    "The android permission dataset used in this project is stored locally, which is imported and stored in a pandas dataframe"
   ]
  },
  {
   "cell_type": "code",
   "execution_count": 226,
   "id": "20251ead",
   "metadata": {},
   "outputs": [],
   "source": [
    "perm_data = pd.read_csv('D:/MTU MSc DSA/Semester 2/Applied ML/Assignment 3/Dataset/Android_Permission.csv')"
   ]
  },
  {
   "cell_type": "code",
   "execution_count": 227,
   "id": "e892df30",
   "metadata": {},
   "outputs": [
    {
     "name": "stdout",
     "output_type": "stream",
     "text": [
      "Shape of the input dataframe:  (29999, 184)\n",
      "\n",
      "\n",
      "Summary of the dataframe: \n"
     ]
    },
    {
     "data": {
      "text/html": [
       "<div>\n",
       "<style scoped>\n",
       "    .dataframe tbody tr th:only-of-type {\n",
       "        vertical-align: middle;\n",
       "    }\n",
       "\n",
       "    .dataframe tbody tr th {\n",
       "        vertical-align: top;\n",
       "    }\n",
       "\n",
       "    .dataframe thead th {\n",
       "        text-align: right;\n",
       "    }\n",
       "</style>\n",
       "<table border=\"1\" class=\"dataframe\">\n",
       "  <thead>\n",
       "    <tr style=\"text-align: right;\">\n",
       "      <th></th>\n",
       "      <th>Rating</th>\n",
       "      <th>Number of ratings</th>\n",
       "      <th>Price</th>\n",
       "      <th>Dangerous permissions count</th>\n",
       "      <th>Safe permissions count</th>\n",
       "      <th>Default : Access DRM content. (S)</th>\n",
       "      <th>Default : Access Email provider data (S)</th>\n",
       "      <th>Default : Access all system downloads (S)</th>\n",
       "      <th>Default : Access download manager. (S)</th>\n",
       "      <th>Default : Advanced download manager functions. (S)</th>\n",
       "      <th>...</th>\n",
       "      <th>Your personal information : read calendar events (D)</th>\n",
       "      <th>Your personal information : read contact data (D)</th>\n",
       "      <th>Your personal information : read sensitive log data (D)</th>\n",
       "      <th>Your personal information : read user defined dictionary (D)</th>\n",
       "      <th>Your personal information : retrieve system internal state (S)</th>\n",
       "      <th>Your personal information : set alarm in alarm clock (S)</th>\n",
       "      <th>Your personal information : write Browser's history and bookmarks (D)</th>\n",
       "      <th>Your personal information : write contact data (D)</th>\n",
       "      <th>Your personal information : write to user defined dictionary (S)</th>\n",
       "      <th>Class</th>\n",
       "    </tr>\n",
       "  </thead>\n",
       "  <tbody>\n",
       "    <tr>\n",
       "      <th>count</th>\n",
       "      <td>29999.000000</td>\n",
       "      <td>2.999900e+04</td>\n",
       "      <td>29999.000000</td>\n",
       "      <td>29795.000000</td>\n",
       "      <td>29999.000000</td>\n",
       "      <td>29999.000000</td>\n",
       "      <td>29999.000000</td>\n",
       "      <td>29999.0</td>\n",
       "      <td>29999.000000</td>\n",
       "      <td>29999.000000</td>\n",
       "      <td>...</td>\n",
       "      <td>29999.000000</td>\n",
       "      <td>29999.000000</td>\n",
       "      <td>29999.000000</td>\n",
       "      <td>29999.000000</td>\n",
       "      <td>29999.000000</td>\n",
       "      <td>29999.000000</td>\n",
       "      <td>29999.000000</td>\n",
       "      <td>29999.000000</td>\n",
       "      <td>29999.000000</td>\n",
       "      <td>29999.000000</td>\n",
       "    </tr>\n",
       "    <tr>\n",
       "      <th>mean</th>\n",
       "      <td>3.537215</td>\n",
       "      <td>6.852608e+03</td>\n",
       "      <td>0.625707</td>\n",
       "      <td>3.111160</td>\n",
       "      <td>1.353978</td>\n",
       "      <td>0.000300</td>\n",
       "      <td>0.000700</td>\n",
       "      <td>0.0</td>\n",
       "      <td>0.000400</td>\n",
       "      <td>0.000033</td>\n",
       "      <td>...</td>\n",
       "      <td>0.014667</td>\n",
       "      <td>0.087970</td>\n",
       "      <td>0.023801</td>\n",
       "      <td>0.001333</td>\n",
       "      <td>0.000567</td>\n",
       "      <td>0.000400</td>\n",
       "      <td>0.016567</td>\n",
       "      <td>0.039735</td>\n",
       "      <td>0.001500</td>\n",
       "      <td>0.666689</td>\n",
       "    </tr>\n",
       "    <tr>\n",
       "      <th>std</th>\n",
       "      <td>1.424685</td>\n",
       "      <td>4.586899e+04</td>\n",
       "      <td>3.222620</td>\n",
       "      <td>3.052602</td>\n",
       "      <td>1.523491</td>\n",
       "      <td>0.017318</td>\n",
       "      <td>0.026449</td>\n",
       "      <td>0.0</td>\n",
       "      <td>0.019997</td>\n",
       "      <td>0.005774</td>\n",
       "      <td>...</td>\n",
       "      <td>0.120219</td>\n",
       "      <td>0.283255</td>\n",
       "      <td>0.152431</td>\n",
       "      <td>0.036492</td>\n",
       "      <td>0.023799</td>\n",
       "      <td>0.019997</td>\n",
       "      <td>0.127645</td>\n",
       "      <td>0.195338</td>\n",
       "      <td>0.038702</td>\n",
       "      <td>0.471405</td>\n",
       "    </tr>\n",
       "    <tr>\n",
       "      <th>min</th>\n",
       "      <td>0.000000</td>\n",
       "      <td>0.000000e+00</td>\n",
       "      <td>0.000000</td>\n",
       "      <td>0.000000</td>\n",
       "      <td>0.000000</td>\n",
       "      <td>0.000000</td>\n",
       "      <td>0.000000</td>\n",
       "      <td>0.0</td>\n",
       "      <td>0.000000</td>\n",
       "      <td>0.000000</td>\n",
       "      <td>...</td>\n",
       "      <td>0.000000</td>\n",
       "      <td>0.000000</td>\n",
       "      <td>0.000000</td>\n",
       "      <td>0.000000</td>\n",
       "      <td>0.000000</td>\n",
       "      <td>0.000000</td>\n",
       "      <td>0.000000</td>\n",
       "      <td>0.000000</td>\n",
       "      <td>0.000000</td>\n",
       "      <td>0.000000</td>\n",
       "    </tr>\n",
       "    <tr>\n",
       "      <th>25%</th>\n",
       "      <td>3.300000</td>\n",
       "      <td>4.000000e+00</td>\n",
       "      <td>0.000000</td>\n",
       "      <td>1.000000</td>\n",
       "      <td>0.000000</td>\n",
       "      <td>0.000000</td>\n",
       "      <td>0.000000</td>\n",
       "      <td>0.0</td>\n",
       "      <td>0.000000</td>\n",
       "      <td>0.000000</td>\n",
       "      <td>...</td>\n",
       "      <td>0.000000</td>\n",
       "      <td>0.000000</td>\n",
       "      <td>0.000000</td>\n",
       "      <td>0.000000</td>\n",
       "      <td>0.000000</td>\n",
       "      <td>0.000000</td>\n",
       "      <td>0.000000</td>\n",
       "      <td>0.000000</td>\n",
       "      <td>0.000000</td>\n",
       "      <td>0.000000</td>\n",
       "    </tr>\n",
       "    <tr>\n",
       "      <th>50%</th>\n",
       "      <td>4.000000</td>\n",
       "      <td>4.600000e+01</td>\n",
       "      <td>0.000000</td>\n",
       "      <td>2.000000</td>\n",
       "      <td>1.000000</td>\n",
       "      <td>0.000000</td>\n",
       "      <td>0.000000</td>\n",
       "      <td>0.0</td>\n",
       "      <td>0.000000</td>\n",
       "      <td>0.000000</td>\n",
       "      <td>...</td>\n",
       "      <td>0.000000</td>\n",
       "      <td>0.000000</td>\n",
       "      <td>0.000000</td>\n",
       "      <td>0.000000</td>\n",
       "      <td>0.000000</td>\n",
       "      <td>0.000000</td>\n",
       "      <td>0.000000</td>\n",
       "      <td>0.000000</td>\n",
       "      <td>0.000000</td>\n",
       "      <td>1.000000</td>\n",
       "    </tr>\n",
       "    <tr>\n",
       "      <th>75%</th>\n",
       "      <td>4.400000</td>\n",
       "      <td>7.160000e+02</td>\n",
       "      <td>0.000000</td>\n",
       "      <td>4.000000</td>\n",
       "      <td>2.000000</td>\n",
       "      <td>0.000000</td>\n",
       "      <td>0.000000</td>\n",
       "      <td>0.0</td>\n",
       "      <td>0.000000</td>\n",
       "      <td>0.000000</td>\n",
       "      <td>...</td>\n",
       "      <td>0.000000</td>\n",
       "      <td>0.000000</td>\n",
       "      <td>0.000000</td>\n",
       "      <td>0.000000</td>\n",
       "      <td>0.000000</td>\n",
       "      <td>0.000000</td>\n",
       "      <td>0.000000</td>\n",
       "      <td>0.000000</td>\n",
       "      <td>0.000000</td>\n",
       "      <td>1.000000</td>\n",
       "    </tr>\n",
       "    <tr>\n",
       "      <th>max</th>\n",
       "      <td>5.000000</td>\n",
       "      <td>1.908590e+06</td>\n",
       "      <td>158.070000</td>\n",
       "      <td>30.000000</td>\n",
       "      <td>16.000000</td>\n",
       "      <td>1.000000</td>\n",
       "      <td>1.000000</td>\n",
       "      <td>0.0</td>\n",
       "      <td>1.000000</td>\n",
       "      <td>1.000000</td>\n",
       "      <td>...</td>\n",
       "      <td>1.000000</td>\n",
       "      <td>1.000000</td>\n",
       "      <td>1.000000</td>\n",
       "      <td>1.000000</td>\n",
       "      <td>1.000000</td>\n",
       "      <td>1.000000</td>\n",
       "      <td>1.000000</td>\n",
       "      <td>1.000000</td>\n",
       "      <td>1.000000</td>\n",
       "      <td>1.000000</td>\n",
       "    </tr>\n",
       "  </tbody>\n",
       "</table>\n",
       "<p>8 rows × 179 columns</p>\n",
       "</div>"
      ],
      "text/plain": [
       "             Rating  Number of ratings         Price  \\\n",
       "count  29999.000000       2.999900e+04  29999.000000   \n",
       "mean       3.537215       6.852608e+03      0.625707   \n",
       "std        1.424685       4.586899e+04      3.222620   \n",
       "min        0.000000       0.000000e+00      0.000000   \n",
       "25%        3.300000       4.000000e+00      0.000000   \n",
       "50%        4.000000       4.600000e+01      0.000000   \n",
       "75%        4.400000       7.160000e+02      0.000000   \n",
       "max        5.000000       1.908590e+06    158.070000   \n",
       "\n",
       "       Dangerous permissions count  Safe permissions count  \\\n",
       "count                 29795.000000            29999.000000   \n",
       "mean                      3.111160                1.353978   \n",
       "std                       3.052602                1.523491   \n",
       "min                       0.000000                0.000000   \n",
       "25%                       1.000000                0.000000   \n",
       "50%                       2.000000                1.000000   \n",
       "75%                       4.000000                2.000000   \n",
       "max                      30.000000               16.000000   \n",
       "\n",
       "       Default : Access DRM content. (S)  \\\n",
       "count                       29999.000000   \n",
       "mean                            0.000300   \n",
       "std                             0.017318   \n",
       "min                             0.000000   \n",
       "25%                             0.000000   \n",
       "50%                             0.000000   \n",
       "75%                             0.000000   \n",
       "max                             1.000000   \n",
       "\n",
       "       Default : Access Email provider data (S)  \\\n",
       "count                              29999.000000   \n",
       "mean                                   0.000700   \n",
       "std                                    0.026449   \n",
       "min                                    0.000000   \n",
       "25%                                    0.000000   \n",
       "50%                                    0.000000   \n",
       "75%                                    0.000000   \n",
       "max                                    1.000000   \n",
       "\n",
       "       Default : Access all system downloads (S)  \\\n",
       "count                                    29999.0   \n",
       "mean                                         0.0   \n",
       "std                                          0.0   \n",
       "min                                          0.0   \n",
       "25%                                          0.0   \n",
       "50%                                          0.0   \n",
       "75%                                          0.0   \n",
       "max                                          0.0   \n",
       "\n",
       "       Default : Access download manager. (S)  \\\n",
       "count                            29999.000000   \n",
       "mean                                 0.000400   \n",
       "std                                  0.019997   \n",
       "min                                  0.000000   \n",
       "25%                                  0.000000   \n",
       "50%                                  0.000000   \n",
       "75%                                  0.000000   \n",
       "max                                  1.000000   \n",
       "\n",
       "       Default : Advanced download manager functions. (S)  ...  \\\n",
       "count                                       29999.000000   ...   \n",
       "mean                                            0.000033   ...   \n",
       "std                                             0.005774   ...   \n",
       "min                                             0.000000   ...   \n",
       "25%                                             0.000000   ...   \n",
       "50%                                             0.000000   ...   \n",
       "75%                                             0.000000   ...   \n",
       "max                                             1.000000   ...   \n",
       "\n",
       "       Your personal information : read calendar events (D)  \\\n",
       "count                                       29999.000000      \n",
       "mean                                            0.014667      \n",
       "std                                             0.120219      \n",
       "min                                             0.000000      \n",
       "25%                                             0.000000      \n",
       "50%                                             0.000000      \n",
       "75%                                             0.000000      \n",
       "max                                             1.000000      \n",
       "\n",
       "       Your personal information : read contact data (D)  \\\n",
       "count                                       29999.000000   \n",
       "mean                                            0.087970   \n",
       "std                                             0.283255   \n",
       "min                                             0.000000   \n",
       "25%                                             0.000000   \n",
       "50%                                             0.000000   \n",
       "75%                                             0.000000   \n",
       "max                                             1.000000   \n",
       "\n",
       "       Your personal information : read sensitive log data (D)  \\\n",
       "count                                       29999.000000         \n",
       "mean                                            0.023801         \n",
       "std                                             0.152431         \n",
       "min                                             0.000000         \n",
       "25%                                             0.000000         \n",
       "50%                                             0.000000         \n",
       "75%                                             0.000000         \n",
       "max                                             1.000000         \n",
       "\n",
       "       Your personal information : read user defined dictionary (D)  \\\n",
       "count                                       29999.000000              \n",
       "mean                                            0.001333              \n",
       "std                                             0.036492              \n",
       "min                                             0.000000              \n",
       "25%                                             0.000000              \n",
       "50%                                             0.000000              \n",
       "75%                                             0.000000              \n",
       "max                                             1.000000              \n",
       "\n",
       "       Your personal information : retrieve system internal state (S)  \\\n",
       "count                                       29999.000000                \n",
       "mean                                            0.000567                \n",
       "std                                             0.023799                \n",
       "min                                             0.000000                \n",
       "25%                                             0.000000                \n",
       "50%                                             0.000000                \n",
       "75%                                             0.000000                \n",
       "max                                             1.000000                \n",
       "\n",
       "       Your personal information : set alarm in alarm clock (S)  \\\n",
       "count                                       29999.000000          \n",
       "mean                                            0.000400          \n",
       "std                                             0.019997          \n",
       "min                                             0.000000          \n",
       "25%                                             0.000000          \n",
       "50%                                             0.000000          \n",
       "75%                                             0.000000          \n",
       "max                                             1.000000          \n",
       "\n",
       "       Your personal information : write Browser's history and bookmarks (D)  \\\n",
       "count                                       29999.000000                       \n",
       "mean                                            0.016567                       \n",
       "std                                             0.127645                       \n",
       "min                                             0.000000                       \n",
       "25%                                             0.000000                       \n",
       "50%                                             0.000000                       \n",
       "75%                                             0.000000                       \n",
       "max                                             1.000000                       \n",
       "\n",
       "       Your personal information : write contact data (D)  \\\n",
       "count                                       29999.000000    \n",
       "mean                                            0.039735    \n",
       "std                                             0.195338    \n",
       "min                                             0.000000    \n",
       "25%                                             0.000000    \n",
       "50%                                             0.000000    \n",
       "75%                                             0.000000    \n",
       "max                                             1.000000    \n",
       "\n",
       "       Your personal information : write to user defined dictionary (S)  \\\n",
       "count                                       29999.000000                  \n",
       "mean                                            0.001500                  \n",
       "std                                             0.038702                  \n",
       "min                                             0.000000                  \n",
       "25%                                             0.000000                  \n",
       "50%                                             0.000000                  \n",
       "75%                                             0.000000                  \n",
       "max                                             1.000000                  \n",
       "\n",
       "              Class  \n",
       "count  29999.000000  \n",
       "mean       0.666689  \n",
       "std        0.471405  \n",
       "min        0.000000  \n",
       "25%        0.000000  \n",
       "50%        1.000000  \n",
       "75%        1.000000  \n",
       "max        1.000000  \n",
       "\n",
       "[8 rows x 179 columns]"
      ]
     },
     "execution_count": 227,
     "metadata": {},
     "output_type": "execute_result"
    }
   ],
   "source": [
    "print(\"Shape of the input dataframe: \",perm_data.shape)\n",
    "print(\"\\n\\nSummary of the dataframe: \")\n",
    "perm_data.describe()"
   ]
  },
  {
   "cell_type": "markdown",
   "id": "ba2e0208",
   "metadata": {},
   "source": [
    "## Step 3 -Data Preprocessing\n",
    "The dataset dealt with is a binary classification requirement, which consists of 184 columns. The following steps are to be carried out in preprocessing the dataset before model building\n",
    "\n",
    "-> Handling Null values\n",
    "\n",
    "-->Feature Scaling\n",
    "\n",
    "-->One hot encoding\n",
    "\n",
    "-->Selecting only required feature variables\n",
    "\n",
    "-->Imbalance handling"
   ]
  },
  {
   "cell_type": "markdown",
   "id": "d92e774c",
   "metadata": {},
   "source": [
    "### Step 3.1 - Handling null values\n",
    "The dataset consists of a total of 3.21 % of na values, which are dropped"
   ]
  },
  {
   "cell_type": "code",
   "execution_count": 228,
   "id": "ad7101f3",
   "metadata": {},
   "outputs": [
    {
     "name": "stdout",
     "output_type": "stream",
     "text": [
      "***Handling Null Values***\n",
      "\n",
      "\n",
      "Total number of null values based on columns:\n",
      "App 1\n",
      "Description 3\n",
      "Related apps 755\n",
      "Dangerous permissions count 204\n",
      "\n",
      "Total number of rows with Null values: 963\n",
      "Total percentage of Null values in dataframe:  3.21 %\n",
      "\n",
      "\n",
      "***Removing rows with null values***\n",
      "\n",
      "Total number of rows with Null values after handling: 0\n"
     ]
    }
   ],
   "source": [
    "data_cols = perm_data.columns\n",
    "features = perm_data[data_cols]\n",
    "print(\"***Handling Null Values***\\n\")\n",
    "\n",
    "## Counting the total number of na values and further checking number of na values column-wise\n",
    "print(\"\\nTotal number of null values based on columns:\")\n",
    "for i in data_cols:\n",
    "    if perm_data[i].isna().sum() > 0:\n",
    "        print(i,perm_data[i].isna().sum())\n",
    "print(\"\\nTotal number of rows with Null values:\",perm_data.isnull().sum().sum())\n",
    "print(\"Total percentage of Null values in dataframe: \",round(perm_data.isnull().sum().sum() * 100 / len(perm_data),2), \"%\")\n",
    "\n",
    "## From the information obtained above, only rows with not na values are retrained have the remaining are left off\n",
    "print(\"\\n\\n***Removing rows with null values***\")\n",
    "feat_nona = perm_data[perm_data['Dangerous permissions count'].notna()]\n",
    "feat_nona = feat_nona[feat_nona['App'].notna()]\n",
    "feat_nona = feat_nona[feat_nona['Description'].notna()]\n",
    "feat_nonan = feat_nona[feat_nona['Related apps'].notna()]\n",
    "\n",
    "print(\"\\nTotal number of rows with Null values after handling:\",feat_nonan.isnull().sum().sum())"
   ]
  },
  {
   "cell_type": "markdown",
   "id": "9630d0b0",
   "metadata": {},
   "source": [
    "### Step 3.2 - Selecting required feature and target variables\n",
    "The following columns are removed from the dataframe App, Package, Related Apps and Description.\n",
    "Only 'Category' qualitative column is considered, which too has been one hot encoded in the following steps"
   ]
  },
  {
   "cell_type": "code",
   "execution_count": 229,
   "id": "386aa4df",
   "metadata": {},
   "outputs": [],
   "source": [
    "data_cols = feat_nonan.iloc[:,np.r_[0,2,4:7,8:183]].columns\n",
    "label_col = feat_nonan.columns[183]\n",
    "feat_nona = feat_nonan[data_cols]\n",
    "labels = feat_nonan[label_col]"
   ]
  },
  {
   "cell_type": "markdown",
   "id": "857f71f4",
   "metadata": {},
   "source": [
    "### Step 3.3 - Feature scaling\n",
    "Standardising the data to a common scale with mean tending to be 0 and standard deviation tending to be 1. This is done particularly as three columns Rating, Number of rating and price are all of different scales"
   ]
  },
  {
   "cell_type": "code",
   "execution_count": 230,
   "id": "20f6a764",
   "metadata": {},
   "outputs": [
    {
     "name": "stdout",
     "output_type": "stream",
     "text": [
      "***Standardizing the dataset***\n",
      "\n",
      "\n",
      "Mean value of all numerical columns combined before scaling:  39.03999020696701\n",
      "Standard deviation value of all numerical columns combined before scaling:  3484.509649885531\n",
      "\n",
      "\n",
      "**Performing data scaling**\n",
      "Mean value of all numerical columns combined after scaling:  3.678007874119121e-16\n",
      "Standard deviation value of all numerical columns combined after scaling:  0.9361648694455973\n"
     ]
    }
   ],
   "source": [
    "print('***Standardizing the dataset***\\n\\n')\n",
    "pd.options.mode.chained_assignment = None\n",
    "print(\"Mean value of all numerical columns combined before scaling: \",feat_nona.select_dtypes(exclude=['object']).stack().mean())\n",
    "print(\"Standard deviation value of all numerical columns combined before scaling: \",feat_nona.select_dtypes(exclude=['object']).stack().std())\n",
    "print(\"\\n\\n**Performing data scaling**\")\n",
    "\n",
    "## Using the sklearn standardscaler to standardise the dataset\n",
    "stan_scale = StandardScaler()\n",
    "numeric_dataset = feat_nona.select_dtypes(exclude=['object']) ## Removing the qualitative text columns from the process\n",
    "feat_nona[numeric_dataset.columns] = stan_scale.fit_transform(numeric_dataset) ## transforming the dataset to common scale\n",
    "\n",
    "## Checking for the mean and standard deviation after standardising the dataset\n",
    "print(\"Mean value of all numerical columns combined after scaling: \",feat_nona.select_dtypes(exclude=['object']).stack().mean())\n",
    "print(\"Standard deviation value of all numerical columns combined after scaling: \",feat_nona.select_dtypes(exclude=['object']).stack().std())"
   ]
  },
  {
   "cell_type": "markdown",
   "id": "b25ab48d",
   "metadata": {},
   "source": [
    "### Step 3.4 - One hot encoding\n",
    "Category column which is a text is transformed using one hot encoding, the number of categories are pivoted to columns with binary values assigned to each row."
   ]
  },
  {
   "cell_type": "code",
   "execution_count": 231,
   "id": "404e49c9",
   "metadata": {},
   "outputs": [],
   "source": [
    "encoder = OneHotEncoder(sparse=False) ## One hot encoder from sklear used \n",
    "departmentEncoded = encoder.fit_transform( feat_nona[[\"Category\"]]) ## Category column processed through the model\n",
    "encoded_df = pd.DataFrame(departmentEncoded, columns=encoder.get_feature_names_out())\n",
    "\n",
    "## Reindexing the dataframes before combining again\n",
    "feat_nona.reset_index(drop=True, inplace=True)\n",
    "encoded_df.reset_index(drop=True, inplace=True)\n",
    "\n",
    "## Category column dropped, one hot encoded numerical columns concatenated with the orginal dataframe\n",
    "feat_nona_encoded = pd.concat([feat_nona, encoded_df], axis=1).drop(['Category'], axis=1)"
   ]
  },
  {
   "cell_type": "code",
   "execution_count": 232,
   "id": "cb6d9d71",
   "metadata": {},
   "outputs": [
    {
     "name": "stdout",
     "output_type": "stream",
     "text": [
      "Unique values of category column: \n",
      " ['Business' 'Brain & Puzzle' 'Cards & Casino' 'Libraries & Demo'\n",
      " 'Personalization' 'Arcade & Action' 'Social' 'Health & Fitness'\n",
      " 'Entertainment' 'Casual' 'Media & Video' 'Finance' 'Music & Audio'\n",
      " 'Books & Reference' 'Tools' 'Education' 'Shopping' 'Travel & Local'\n",
      " 'Lifestyle' 'Sports' 'Racing' 'Productivity' 'Communication'\n",
      " 'Transportation' 'Comics' 'Medical' 'Sports Games' 'Photography'\n",
      " 'News & Magazines' 'Weather']\n",
      "\n",
      "Dataframe after one hot encoding: \n"
     ]
    },
    {
     "data": {
      "text/html": [
       "<div>\n",
       "<style scoped>\n",
       "    .dataframe tbody tr th:only-of-type {\n",
       "        vertical-align: middle;\n",
       "    }\n",
       "\n",
       "    .dataframe tbody tr th {\n",
       "        vertical-align: top;\n",
       "    }\n",
       "\n",
       "    .dataframe thead th {\n",
       "        text-align: right;\n",
       "    }\n",
       "</style>\n",
       "<table border=\"1\" class=\"dataframe\">\n",
       "  <thead>\n",
       "    <tr style=\"text-align: right;\">\n",
       "      <th></th>\n",
       "      <th>App</th>\n",
       "      <th>Rating</th>\n",
       "      <th>Number of ratings</th>\n",
       "      <th>Price</th>\n",
       "      <th>Dangerous permissions count</th>\n",
       "      <th>Safe permissions count</th>\n",
       "      <th>Default : Access DRM content. (S)</th>\n",
       "      <th>Default : Access Email provider data (S)</th>\n",
       "      <th>Default : Access all system downloads (S)</th>\n",
       "      <th>Default : Access download manager. (S)</th>\n",
       "      <th>...</th>\n",
       "      <th>Category_Productivity</th>\n",
       "      <th>Category_Racing</th>\n",
       "      <th>Category_Shopping</th>\n",
       "      <th>Category_Social</th>\n",
       "      <th>Category_Sports</th>\n",
       "      <th>Category_Sports Games</th>\n",
       "      <th>Category_Tools</th>\n",
       "      <th>Category_Transportation</th>\n",
       "      <th>Category_Travel &amp; Local</th>\n",
       "      <th>Category_Weather</th>\n",
       "    </tr>\n",
       "  </thead>\n",
       "  <tbody>\n",
       "    <tr>\n",
       "      <th>0</th>\n",
       "      <td>Canada Post Corporation</td>\n",
       "      <td>-0.365499</td>\n",
       "      <td>-0.149199</td>\n",
       "      <td>-0.181443</td>\n",
       "      <td>1.262883</td>\n",
       "      <td>-0.240454</td>\n",
       "      <td>-0.017547</td>\n",
       "      <td>-0.026809</td>\n",
       "      <td>0.0</td>\n",
       "      <td>-0.020262</td>\n",
       "      <td>...</td>\n",
       "      <td>0.0</td>\n",
       "      <td>0.0</td>\n",
       "      <td>0.0</td>\n",
       "      <td>0.0</td>\n",
       "      <td>0.0</td>\n",
       "      <td>0.0</td>\n",
       "      <td>0.0</td>\n",
       "      <td>0.0</td>\n",
       "      <td>0.0</td>\n",
       "      <td>0.0</td>\n",
       "    </tr>\n",
       "    <tr>\n",
       "      <th>1</th>\n",
       "      <td>Word Farm</td>\n",
       "      <td>0.518860</td>\n",
       "      <td>-0.146546</td>\n",
       "      <td>-0.181443</td>\n",
       "      <td>-0.040600</td>\n",
       "      <td>0.412548</td>\n",
       "      <td>-0.017547</td>\n",
       "      <td>-0.026809</td>\n",
       "      <td>0.0</td>\n",
       "      <td>-0.020262</td>\n",
       "      <td>...</td>\n",
       "      <td>0.0</td>\n",
       "      <td>0.0</td>\n",
       "      <td>0.0</td>\n",
       "      <td>0.0</td>\n",
       "      <td>0.0</td>\n",
       "      <td>0.0</td>\n",
       "      <td>0.0</td>\n",
       "      <td>0.0</td>\n",
       "      <td>0.0</td>\n",
       "      <td>0.0</td>\n",
       "    </tr>\n",
       "  </tbody>\n",
       "</table>\n",
       "<p>2 rows × 209 columns</p>\n",
       "</div>"
      ],
      "text/plain": [
       "                       App    Rating  Number of ratings     Price  \\\n",
       "0  Canada Post Corporation -0.365499          -0.149199 -0.181443   \n",
       "1                Word Farm  0.518860          -0.146546 -0.181443   \n",
       "\n",
       "   Dangerous permissions count  Safe permissions count  \\\n",
       "0                     1.262883               -0.240454   \n",
       "1                    -0.040600                0.412548   \n",
       "\n",
       "   Default : Access DRM content. (S)  \\\n",
       "0                          -0.017547   \n",
       "1                          -0.017547   \n",
       "\n",
       "   Default : Access Email provider data (S)  \\\n",
       "0                                 -0.026809   \n",
       "1                                 -0.026809   \n",
       "\n",
       "   Default : Access all system downloads (S)  \\\n",
       "0                                        0.0   \n",
       "1                                        0.0   \n",
       "\n",
       "   Default : Access download manager. (S)  ...  Category_Productivity  \\\n",
       "0                               -0.020262  ...                    0.0   \n",
       "1                               -0.020262  ...                    0.0   \n",
       "\n",
       "   Category_Racing  Category_Shopping  Category_Social  Category_Sports  \\\n",
       "0              0.0                0.0              0.0              0.0   \n",
       "1              0.0                0.0              0.0              0.0   \n",
       "\n",
       "   Category_Sports Games  Category_Tools  Category_Transportation  \\\n",
       "0                    0.0             0.0                      0.0   \n",
       "1                    0.0             0.0                      0.0   \n",
       "\n",
       "   Category_Travel & Local  Category_Weather  \n",
       "0                      0.0               0.0  \n",
       "1                      0.0               0.0  \n",
       "\n",
       "[2 rows x 209 columns]"
      ]
     },
     "execution_count": 232,
     "metadata": {},
     "output_type": "execute_result"
    }
   ],
   "source": [
    "print(\"Unique values of category column: \\n\",feat_nona.Category.unique())\n",
    "print(\"\\nDataframe after one hot encoding: \")\n",
    "feat_nona_encoded.head(2)"
   ]
  },
  {
   "cell_type": "markdown",
   "id": "6ffb9367",
   "metadata": {},
   "source": [
    "# Step 4 - Data Split\n",
    "The dataset is split into train, validation and test, where the train dataset will be used for model training with the validation used for model evaluation in development phase.\n",
    "\n",
    "The test dataset will be used as the unknown/unseen dataset for prediction with the final best model\n",
    "\n",
    "Train, test split: 80% of total data as train 20% as test\n",
    "\n",
    "Train, validation split: 80% of train data as train, 20% as validation"
   ]
  },
  {
   "cell_type": "code",
   "execution_count": 233,
   "id": "e9cfc112",
   "metadata": {},
   "outputs": [
    {
     "name": "stdout",
     "output_type": "stream",
     "text": [
      "Train, Validation and test split dataframes size: \n",
      "\n",
      "Orginal dataset and labels shape:  (29240, 208) (29240,)\n",
      "Train dataset and labels shape:  (18713, 208) (18713,)\n",
      "Validation dataset and labels shape:  (4679, 208) (4679,)\n",
      "Test dataset and labels shape:  (5848, 208) (5848,)\n"
     ]
    }
   ],
   "source": [
    "feat_nona_encoded = feat_nona_encoded.iloc[:,np.r_[1:209]] ## The app column which is no longer required is removed here\n",
    "train_features, test_features, train_labels, test_labels = model_selection.train_test_split(feat_nona_encoded, labels, test_size=0.2, random_state=0)\n",
    "train_features, val_features, train_labels, val_labels = model_selection.train_test_split(train_features, train_labels, test_size=0.2, random_state=0)\n",
    "\n",
    "## Checking the orginal, train, validation and test dataset shapes\n",
    "print(\"Train, Validation and test split dataframes size: \")\n",
    "print(\"\\nOrginal dataset and labels shape: \",feat_nona_encoded.shape,labels.shape)\n",
    "print(\"Train dataset and labels shape: \",train_features.shape,train_labels.shape)\n",
    "print(\"Validation dataset and labels shape: \",val_features.shape,val_labels.shape)\n",
    "print(\"Test dataset and labels shape: \",test_features.shape,test_labels.shape)"
   ]
  },
  {
   "cell_type": "markdown",
   "id": "ecbfe2b1",
   "metadata": {},
   "source": [
    "## Step 5 - Imbalance handling\n",
    "The dataset is highly imbalanced, in this step the imbalance is visualised and then is handled using SMOTE technique.\n",
    "\n",
    "The effect of imbalance handling is shown by training and evaluating a random forest model before and after applying SMOTE imbalance handling on the dataset"
   ]
  },
  {
   "cell_type": "markdown",
   "id": "e9f3ec8b",
   "metadata": {},
   "source": [
    "#### Step 5.1 - Visualising imabalance in the dataset\n",
    "Checking the percentage of imbalance between the classes 0 and 1 using a pie chart, before applying SMOTE"
   ]
  },
  {
   "cell_type": "code",
   "execution_count": 235,
   "id": "a8e17732",
   "metadata": {},
   "outputs": [
    {
     "name": "stdout",
     "output_type": "stream",
     "text": [
      "Malware and Not malware data percentage:\n",
      "Number of apps categorised as Malware: 12390 (66.21%)\n",
      "Number of apps categorised as Not-Malware: 6323 (33.79%)\n"
     ]
    },
    {
     "data": {
      "image/png": "[encoded data removed]",
      "text/plain": [
       "<Figure size 504x504 with 1 Axes>"
      ]
     },
     "metadata": {},
     "output_type": "display_data"
    }
   ],
   "source": [
    "categories = []\n",
    "for i in train_labels:\n",
    "    if i==0:\n",
    "        categories.append('Not Malware')\n",
    "    else:\n",
    "        categories.append('Malware')\n",
    "        \n",
    "## Classifying malware and not malware        \n",
    "lab_df =pd.DataFrame({\n",
    "    'value': train_labels,\n",
    "    'categories':categories\n",
    "})\n",
    "    \n",
    "ob_len=len(lab_df)\n",
    "malware= len(lab_df.loc[lab_df['value'] == 1])\n",
    "not_mal= len(lab_df.loc[lab_df['value'] == 0])\n",
    "print('Malware and Not malware data percentage:')\n",
    "print('Number of apps categorised as Malware: {0} ({1:.2f}%)'.format(malware, (malware/ob_len)*100))\n",
    "print('Number of apps categorised as Not-Malware: {0} ({1:.2f}%)'.format(not_mal, (not_mal/ob_len)*100))\n",
    "\n",
    "## Plotting a pie chat for the classes 0 and 1\n",
    "lab_df.groupby('categories').count().plot(kind = 'pie', y = 'value', autopct = '%1.0f%%', figsize=(7,7))\n",
    "plt.show()"
   ]
  },
  {
   "cell_type": "markdown",
   "id": "2e71eebb",
   "metadata": {},
   "source": [
    "#### Step 5.2 - RF model training on imbalanced dataset\n",
    "Training a random forest model and evaluating the accuracy before handling the imbalance in the dataset"
   ]
  },
  {
   "cell_type": "code",
   "execution_count": 236,
   "id": "2a1c0667",
   "metadata": {},
   "outputs": [],
   "source": [
    "cl_rf_bfsme = RandomForestClassifier(max_depth=2, random_state=0).fit(train_features, train_labels)\n",
    "scores_rf_bfsme = cross_val_score(cl_rf_bfsme, train_features, train_labels, cv=10, scoring='f1_macro')"
   ]
  },
  {
   "cell_type": "code",
   "execution_count": 237,
   "id": "a337db60",
   "metadata": {},
   "outputs": [
    {
     "name": "stdout",
     "output_type": "stream",
     "text": [
      "Random Forest Model training - before imbalance handling\n",
      "39.84 accuracy for 10 F-CV Random Forest\n",
      "\n",
      "Prediction on validation dataset\n"
     ]
    },
    {
     "data": {
      "image/png": "[encoded data removed]",
      "text/plain": [
       "<Figure size 432x288 with 2 Axes>"
      ]
     },
     "metadata": {
      "needs_background": "light"
     },
     "output_type": "display_data"
    }
   ],
   "source": [
    "print(\"Random Forest Model training - before imbalance handling\")\n",
    "print(\"%0.2f accuracy for 10 F-CV Random Forest\" % (scores_rf_bfsme.mean()*100))\n",
    "\n",
    "print(\"\\nPrediction on validation dataset\")\n",
    "## Prediction on valdiation dataset\n",
    "predictions_rf_bfsme = cl_rf_bfsme.predict(val_features)\n",
    "cm_rf_bfsme = confusion_matrix(val_labels, predictions_rf_bfsme)\n",
    "##Creating conusion matrix for validation\n",
    "disp = ConfusionMatrixDisplay(confusion_matrix=cm_rf_bfsme)\n",
    "disp.plot()\n",
    "plt.show()"
   ]
  },
  {
   "cell_type": "markdown",
   "id": "5556fa79",
   "metadata": {},
   "source": [
    "### Step 5. 3 - Performing SMOTE to handle imbalance"
   ]
  },
  {
   "cell_type": "code",
   "execution_count": 238,
   "id": "50fb7e5f",
   "metadata": {},
   "outputs": [],
   "source": [
    "sm = SMOTE(random_state=42)\n",
    "train_features_x, train_labels_y = sm.fit_resample(train_features, train_labels)"
   ]
  },
  {
   "cell_type": "markdown",
   "id": "5a9b1e21",
   "metadata": {},
   "source": [
    "#### Step 5.4 - Visualising imabalance in the dataset\n",
    "Checking the percentage of imbalance between the classes 0 and 1 using a pie chart, after applying SMOTE"
   ]
  },
  {
   "cell_type": "code",
   "execution_count": 239,
   "id": "849e133d",
   "metadata": {},
   "outputs": [
    {
     "name": "stdout",
     "output_type": "stream",
     "text": [
      "Malware and Not malware data percentage:\n",
      "Number of apps categorised as Malware: 12390 (50.00%)\n",
      "Number of apps categorised as Not-Malware: 12390 (50.00%)\n"
     ]
    },
    {
     "data": {
      "image/png": "[encoded data removed]",
      "text/plain": [
       "<Figure size 504x504 with 1 Axes>"
      ]
     },
     "metadata": {},
     "output_type": "display_data"
    }
   ],
   "source": [
    "categories = []\n",
    "for i in train_labels_y:\n",
    "    if i==0:\n",
    "        categories.append('Not Malware')\n",
    "    else:\n",
    "        categories.append('Malware')\n",
    "        \n",
    "## Classifying malware and not malware        \n",
    "lab_df =pd.DataFrame({\n",
    "    'value': train_labels_y,\n",
    "    'categories':categories\n",
    "})\n",
    "    \n",
    "ob_len=len(lab_df)\n",
    "malware= len(lab_df.loc[lab_df['value'] == 1])\n",
    "not_mal= len(lab_df.loc[lab_df['value'] == 0])\n",
    "print('Malware and Not malware data percentage:')\n",
    "print('Number of apps categorised as Malware: {0} ({1:.2f}%)'.format(malware, (malware/ob_len)*100))\n",
    "print('Number of apps categorised as Not-Malware: {0} ({1:.2f}%)'.format(not_mal, (not_mal/ob_len)*100))\n",
    "\n",
    "## Plotting a pie chat for the classes 0 and 1\n",
    "lab_df.groupby('categories').count().plot(kind = 'pie', y = 'value', autopct = '%1.0f%%', figsize=(7,7))\n",
    "plt.show()"
   ]
  },
  {
   "cell_type": "markdown",
   "id": "60ca7cc5",
   "metadata": {},
   "source": [
    "#### Step 5.5 - RF model training on balanced dataset\n",
    "Training a random forest model and evaluating the accuracy after handling the imbalance in the dataset"
   ]
  },
  {
   "cell_type": "code",
   "execution_count": 240,
   "id": "c5b1b0a5",
   "metadata": {},
   "outputs": [],
   "source": [
    "cl_rf_afsme = RandomForestClassifier(max_depth=2, random_state=0).fit(train_features_x, train_labels_y)\n",
    "scores_rf_afsme = cross_val_score(cl_rf_bfsme, train_features_x, train_labels_y, cv=10, scoring='f1_macro')"
   ]
  },
  {
   "cell_type": "code",
   "execution_count": 278,
   "id": "6cda5709",
   "metadata": {},
   "outputs": [
    {
     "name": "stdout",
     "output_type": "stream",
     "text": [
      "Random Forest Model training - after imbalance handling\n",
      "78.56 accuracy for 10 F-CV Random Forest\n",
      "\n",
      "Prediction on validation dataset\n"
     ]
    },
    {
     "data": {
      "image/png": "[encoded data removed]",
      "text/plain": [
       "<Figure size 432x288 with 2 Axes>"
      ]
     },
     "metadata": {
      "needs_background": "light"
     },
     "output_type": "display_data"
    },
    {
     "name": "stdout",
     "output_type": "stream",
     "text": [
      "              precision    recall  f1-score   support\n",
      "\n",
      "           0       0.59      0.89      0.71      1638\n",
      "           1       0.92      0.66      0.77      3041\n",
      "\n",
      "    accuracy                           0.74      4679\n",
      "   macro avg       0.76      0.78      0.74      4679\n",
      "weighted avg       0.80      0.74      0.75      4679\n",
      "\n"
     ]
    }
   ],
   "source": [
    "print(\"Random Forest Model training - after imbalance handling\")\n",
    "print(\"%0.2f accuracy for 10 F-CV Random Forest\" % (scores_rf_afsme.mean()*100))\n",
    "\n",
    "print(\"\\nPrediction on validation dataset\")\n",
    "predictions_rf = cl_rf_afsme.predict(val_features)\n",
    "cm_rf = confusion_matrix(val_labels, predictions_rf)\n",
    "disp = ConfusionMatrixDisplay(confusion_matrix=cm_rf)\n",
    "disp.plot()\n",
    "plt.show()\n",
    "print(classification_report(val_labels, predictions_rf))\n"
   ]
  },
  {
   "cell_type": "markdown",
   "id": "dc972d02",
   "metadata": {},
   "source": [
    "# Step 6 - Model Training"
   ]
  },
  {
   "cell_type": "markdown",
   "id": "be159791",
   "metadata": {},
   "source": [
    "#### Step 6.1 - Naive Bayes"
   ]
  },
  {
   "cell_type": "code",
   "execution_count": 148,
   "id": "cfe62255",
   "metadata": {},
   "outputs": [],
   "source": [
    "clf_nv_ber = BernoulliNB().fit(train_features_x, train_labels_y)\n",
    "scores_nv_ber= cross_val_score(clf_nv_ber, train_features_x, train_labels_y, cv=10, scoring='f1_macro')"
   ]
  },
  {
   "cell_type": "code",
   "execution_count": 149,
   "id": "8d8f8619",
   "metadata": {},
   "outputs": [
    {
     "name": "stdout",
     "output_type": "stream",
     "text": [
      "Naive Bayes Model training\n",
      "74.24 accuracy for 10 F-CV Naive Bayes\n",
      "\n",
      "Prediction on validation dataset\n"
     ]
    },
    {
     "data": {
      "image/png": "[encoded data removed]",
      "text/plain": [
       "<Figure size 432x288 with 2 Axes>"
      ]
     },
     "metadata": {
      "needs_background": "light"
     },
     "output_type": "display_data"
    }
   ],
   "source": [
    "print(\"Naive Bayes Model training\")\n",
    "print(\"%0.2f accuracy for 10 F-CV Naive Bayes\" % (scores_nv_ber.mean()*100))\n",
    "\n",
    "print(\"\\nPrediction on validation dataset\")\n",
    "predictions_nv = clf_nv_ber.predict(val_features)\n",
    "cm_nv = confusion_matrix(val_labels, predictions_nv)\n",
    "disp = ConfusionMatrixDisplay(confusion_matrix=cm_nv)\n",
    "disp.plot()\n",
    "plt.show()"
   ]
  },
  {
   "cell_type": "markdown",
   "id": "09585669",
   "metadata": {},
   "source": [
    "#### Step 6.2 - SVM - Support vector machines"
   ]
  },
  {
   "cell_type": "code",
   "execution_count": 152,
   "id": "3a9ee14c",
   "metadata": {},
   "outputs": [],
   "source": [
    "clf_svm = SVC(kernel='linear', C=1).fit(train_features_x, train_labels_y)\n",
    "scores_svm = cross_val_score(clf_svm, train_features_x, train_labels_y, cv=10)"
   ]
  },
  {
   "cell_type": "code",
   "execution_count": 154,
   "id": "a6ace22d",
   "metadata": {},
   "outputs": [
    {
     "name": "stdout",
     "output_type": "stream",
     "text": [
      "SVM Model training\n",
      "77.23 accuracy for 10 F-CV SVM\n",
      "\n",
      "Prediction on validation dataset\n"
     ]
    },
    {
     "data": {
      "image/png": "[encoded data removed]",
      "text/plain": [
       "<Figure size 432x288 with 2 Axes>"
      ]
     },
     "metadata": {
      "needs_background": "light"
     },
     "output_type": "display_data"
    }
   ],
   "source": [
    "print(\"SVM Model training\")\n",
    "print(\"%0.2f accuracy for 10 F-CV SVM\" % (scores_svm.mean()*100))\n",
    "\n",
    "print(\"\\nPrediction on validation dataset\")\n",
    "predictions_svm = clf_svm.predict(val_features)\n",
    "cm_svm = confusion_matrix(val_labels, predictions_svm, labels=clf_svm.classes_)\n",
    "disp = ConfusionMatrixDisplay(confusion_matrix=cm_svm, display_labels=clf_svm.classes_)\n",
    "disp.plot()\n",
    "plt.show()"
   ]
  },
  {
   "cell_type": "markdown",
   "id": "63a56b51",
   "metadata": {},
   "source": [
    "#### Step 6.3 - K-Nearest Neighbors Algorithm - KNN"
   ]
  },
  {
   "cell_type": "code",
   "execution_count": 248,
   "id": "ab956aa1",
   "metadata": {},
   "outputs": [],
   "source": [
    "clf_knn = KNeighborsClassifier(n_neighbors=3).fit(train_features_x, train_labels_y)\n",
    "scores_knn = cross_val_score(clf_knn, train_features_x, train_labels_y, cv=10)"
   ]
  },
  {
   "cell_type": "code",
   "execution_count": 249,
   "id": "81c78699",
   "metadata": {},
   "outputs": [
    {
     "name": "stdout",
     "output_type": "stream",
     "text": [
      "KNN Model training\n",
      "76.99 accuracy for 10 F-CV KNN\n",
      "\n",
      "Prediction on validation dataset\n"
     ]
    },
    {
     "data": {
      "image/png": "[encoded data removed]",
      "text/plain": [
       "<Figure size 432x288 with 2 Axes>"
      ]
     },
     "metadata": {
      "needs_background": "light"
     },
     "output_type": "display_data"
    }
   ],
   "source": [
    "print(\"KNN Model training\")\n",
    "print(\"%0.2f accuracy for 10 F-CV KNN\" % (scores_knn.mean()*100))\n",
    "\n",
    "print(\"\\nPrediction on validation dataset\")\n",
    "predictions_knn = clf_knn.predict(val_features)\n",
    "cm_knn = confusion_matrix(val_labels, predictions_knn, labels=clf_knn.classes_)\n",
    "disp = ConfusionMatrixDisplay(confusion_matrix=cm_knn, display_labels=clf_knn.classes_)\n",
    "disp.plot()\n",
    "plt.show()"
   ]
  },
  {
   "cell_type": "markdown",
   "id": "08d383dc",
   "metadata": {},
   "source": [
    "# Step 7 - Hyperparameter tuning"
   ]
  },
  {
   "cell_type": "code",
   "execution_count": 254,
   "id": "92fc9c37",
   "metadata": {},
   "outputs": [
    {
     "name": "stdout",
     "output_type": "stream",
     "text": [
      "Best Score:  0.8526238336717251\n",
      "Best Estimatior:  RandomForestClassifier(criterion='entropy', max_features='sqrt',\n",
      "                       n_estimators=300, n_jobs=-1, oob_score='TRUE')\n"
     ]
    }
   ],
   "source": [
    "hyper = {'n_estimators': [100,300], 'criterion': [\"gini\", \"entropy\"],'max_features': [\"auto\",\"sqrt\"],'n_jobs': [1,-1], 'oob_score': ['TRUE']}\n",
    "\n",
    "## Using gridsearch cv to find the best fit model\n",
    "gd_hyper=GridSearchCV(estimator=RandomForestClassifier(),param_grid=hyper,cv=10, scoring='f1_macro')\n",
    "\n",
    "gd_hyper.fit(train_features_x, train_labels_y)\n",
    "\n",
    "print(\"Best Score: \", gd_hyper.best_score_)\n",
    "print(\"Best Estimatior: \", gd_hyper.best_estimator_)"
   ]
  },
  {
   "cell_type": "code",
   "execution_count": 280,
   "id": "7f1e8105",
   "metadata": {},
   "outputs": [
    {
     "name": "stdout",
     "output_type": "stream",
     "text": [
      "Random Forest Model training - hyperparameter tuning\n",
      "85.26 accuracy for 10 F-CV Random Forest\n",
      "\n",
      "Prediction on validation dataset\n"
     ]
    },
    {
     "data": {
      "image/png": "[encoded data removed]",
      "text/plain": [
       "<Figure size 432x288 with 2 Axes>"
      ]
     },
     "metadata": {
      "needs_background": "light"
     },
     "output_type": "display_data"
    },
    {
     "name": "stdout",
     "output_type": "stream",
     "text": [
      "              precision    recall  f1-score   support\n",
      "\n",
      "           0       0.72      0.75      0.74      1638\n",
      "           1       0.86      0.85      0.85      3041\n",
      "\n",
      "    accuracy                           0.81      4679\n",
      "   macro avg       0.79      0.80      0.79      4679\n",
      "weighted avg       0.81      0.81      0.81      4679\n",
      "\n"
     ]
    }
   ],
   "source": [
    "print(\"Random Forest Model training - hyperparameter tuning\")\n",
    "print(\"%0.2f accuracy for 10 F-CV Random Forest\" % (gd_hyper.best_score_*100))\n",
    "\n",
    "print(\"\\nPrediction on validation dataset\")\n",
    "predictions_rf_hyp = gd_hyper.predict(val_features)\n",
    "cm_rf_hyp = confusion_matrix(val_labels, predictions_rf_hyp)\n",
    "disp = ConfusionMatrixDisplay(confusion_matrix=cm_rf_hyp)\n",
    "disp.plot()\n",
    "plt.show()\n",
    "print(classification_report(val_labels, predictions_rf_hyp))"
   ]
  },
  {
   "cell_type": "markdown",
   "id": "024a445b",
   "metadata": {},
   "source": [
    "# Step 8 - Model evaluation and comparision"
   ]
  },
  {
   "cell_type": "code",
   "execution_count": 258,
   "id": "3868a5a7",
   "metadata": {},
   "outputs": [
    {
     "name": "stdout",
     "output_type": "stream",
     "text": [
      "The Model accuracy summary:\n"
     ]
    },
    {
     "data": {
      "image/png": "[encoded data removed]",
      "text/plain": [
       "<Figure size 720x576 with 1 Axes>"
      ]
     },
     "metadata": {
      "needs_background": "light"
     },
     "output_type": "display_data"
    },
    {
     "data": {
      "text/html": [
       "<div>\n",
       "<style scoped>\n",
       "    .dataframe tbody tr th:only-of-type {\n",
       "        vertical-align: middle;\n",
       "    }\n",
       "\n",
       "    .dataframe tbody tr th {\n",
       "        vertical-align: top;\n",
       "    }\n",
       "\n",
       "    .dataframe thead th {\n",
       "        text-align: right;\n",
       "    }\n",
       "</style>\n",
       "<table border=\"1\" class=\"dataframe\">\n",
       "  <thead>\n",
       "    <tr style=\"text-align: right;\">\n",
       "      <th></th>\n",
       "      <th>Model_Name</th>\n",
       "      <th>Accuracy</th>\n",
       "    </tr>\n",
       "  </thead>\n",
       "  <tbody>\n",
       "    <tr>\n",
       "      <th>0</th>\n",
       "      <td>RF - Before SMOTE</td>\n",
       "      <td>39.835387</td>\n",
       "    </tr>\n",
       "    <tr>\n",
       "      <th>1</th>\n",
       "      <td>RF - After SMOTE</td>\n",
       "      <td>78.564294</td>\n",
       "    </tr>\n",
       "    <tr>\n",
       "      <th>2</th>\n",
       "      <td>Naive Bayes</td>\n",
       "      <td>74.235370</td>\n",
       "    </tr>\n",
       "    <tr>\n",
       "      <th>3</th>\n",
       "      <td>KNN</td>\n",
       "      <td>76.985472</td>\n",
       "    </tr>\n",
       "    <tr>\n",
       "      <th>4</th>\n",
       "      <td>SVM</td>\n",
       "      <td>77.231638</td>\n",
       "    </tr>\n",
       "    <tr>\n",
       "      <th>5</th>\n",
       "      <td>RF - HyperTuned</td>\n",
       "      <td>85.262383</td>\n",
       "    </tr>\n",
       "  </tbody>\n",
       "</table>\n",
       "</div>"
      ],
      "text/plain": [
       "          Model_Name   Accuracy\n",
       "0  RF - Before SMOTE  39.835387\n",
       "1   RF - After SMOTE  78.564294\n",
       "2        Naive Bayes  74.235370\n",
       "3                KNN  76.985472\n",
       "4                SVM  77.231638\n",
       "5    RF - HyperTuned  85.262383"
      ]
     },
     "execution_count": 258,
     "metadata": {},
     "output_type": "execute_result"
    }
   ],
   "source": [
    "data_input = {'Model_Name': ['RF - Before SMOTE','RF - After SMOTE','Naive Bayes','KNN','SVM','RF - HyperTuned'],\n",
    "        'Accuracy': [scores_rf_bfsme.mean()*100,scores_rf_afsme.mean()*100,scores_nv_ber.mean()*100,scores_knn.mean()*100,scores_svm.mean()*100,gd_hyper.best_score_*100]}\n",
    "\n",
    "Accuracy_Df = pd.DataFrame(data_input)\n",
    "\n",
    "## Plotting the model accuracy of all trained models\n",
    "print(\"The Model accuracy summary:\")\n",
    "fig, ax = plt.subplots(figsize=(10,8))\n",
    "sns.barplot(x='Model_Name', y='Accuracy', data=Accuracy_Df, saturation=0.8)\n",
    "plt.show()\n",
    "Accuracy_Df"
   ]
  },
  {
   "cell_type": "markdown",
   "id": "935324cb",
   "metadata": {},
   "source": [
    "# Step 9 - Prediction on test dataset"
   ]
  },
  {
   "cell_type": "code",
   "execution_count": 274,
   "id": "307d0c4e",
   "metadata": {},
   "outputs": [],
   "source": [
    "## Predicting the unseen test dataset\n",
    "prediction_test = (gd_hyper.predict(test_features) > 0.5).astype(\"int32\")\n",
    "\n",
    "Pred_values =pd.DataFrame({\n",
    "    'Actual': test_labels,\n",
    "    'Predicted':prediction_test\n",
    "    \n",
    "})"
   ]
  },
  {
   "cell_type": "code",
   "execution_count": 275,
   "id": "940fd4e9",
   "metadata": {},
   "outputs": [
    {
     "name": "stdout",
     "output_type": "stream",
     "text": [
      "Confusion matrix for test dataset prediction\n",
      "\n",
      "Prediction on Test dataset\n"
     ]
    },
    {
     "data": {
      "image/png": "[encoded data removed]",
      "text/plain": [
       "<Figure size 432x288 with 2 Axes>"
      ]
     },
     "metadata": {
      "needs_background": "light"
     },
     "output_type": "display_data"
    },
    {
     "name": "stdout",
     "output_type": "stream",
     "text": [
      "              precision    recall  f1-score   support\n",
      "\n",
      "           0       0.71      0.74      0.73      1950\n",
      "           1       0.87      0.85      0.86      3898\n",
      "\n",
      "    accuracy                           0.81      5848\n",
      "   macro avg       0.79      0.80      0.79      5848\n",
      "weighted avg       0.82      0.81      0.82      5848\n",
      "\n"
     ]
    },
    {
     "data": {
      "text/html": [
       "<div>\n",
       "<style scoped>\n",
       "    .dataframe tbody tr th:only-of-type {\n",
       "        vertical-align: middle;\n",
       "    }\n",
       "\n",
       "    .dataframe tbody tr th {\n",
       "        vertical-align: top;\n",
       "    }\n",
       "\n",
       "    .dataframe thead th {\n",
       "        text-align: right;\n",
       "    }\n",
       "</style>\n",
       "<table border=\"1\" class=\"dataframe\">\n",
       "  <thead>\n",
       "    <tr style=\"text-align: right;\">\n",
       "      <th></th>\n",
       "      <th>Actual</th>\n",
       "      <th>Predicted</th>\n",
       "    </tr>\n",
       "  </thead>\n",
       "  <tbody>\n",
       "    <tr>\n",
       "      <th>5848</th>\n",
       "      <td>0</td>\n",
       "      <td>1</td>\n",
       "    </tr>\n",
       "    <tr>\n",
       "      <th>15374</th>\n",
       "      <td>1</td>\n",
       "      <td>1</td>\n",
       "    </tr>\n",
       "    <tr>\n",
       "      <th>19714</th>\n",
       "      <td>1</td>\n",
       "      <td>1</td>\n",
       "    </tr>\n",
       "    <tr>\n",
       "      <th>24400</th>\n",
       "      <td>0</td>\n",
       "      <td>1</td>\n",
       "    </tr>\n",
       "    <tr>\n",
       "      <th>21379</th>\n",
       "      <td>1</td>\n",
       "      <td>1</td>\n",
       "    </tr>\n",
       "    <tr>\n",
       "      <th>...</th>\n",
       "      <td>...</td>\n",
       "      <td>...</td>\n",
       "    </tr>\n",
       "    <tr>\n",
       "      <th>10415</th>\n",
       "      <td>1</td>\n",
       "      <td>1</td>\n",
       "    </tr>\n",
       "    <tr>\n",
       "      <th>21240</th>\n",
       "      <td>0</td>\n",
       "      <td>1</td>\n",
       "    </tr>\n",
       "    <tr>\n",
       "      <th>18411</th>\n",
       "      <td>0</td>\n",
       "      <td>0</td>\n",
       "    </tr>\n",
       "    <tr>\n",
       "      <th>4169</th>\n",
       "      <td>1</td>\n",
       "      <td>1</td>\n",
       "    </tr>\n",
       "    <tr>\n",
       "      <th>25193</th>\n",
       "      <td>0</td>\n",
       "      <td>1</td>\n",
       "    </tr>\n",
       "  </tbody>\n",
       "</table>\n",
       "<p>5848 rows × 2 columns</p>\n",
       "</div>"
      ],
      "text/plain": [
       "       Actual  Predicted\n",
       "5848        0          1\n",
       "15374       1          1\n",
       "19714       1          1\n",
       "24400       0          1\n",
       "21379       1          1\n",
       "...       ...        ...\n",
       "10415       1          1\n",
       "21240       0          1\n",
       "18411       0          0\n",
       "4169        1          1\n",
       "25193       0          1\n",
       "\n",
       "[5848 rows x 2 columns]"
      ]
     },
     "execution_count": 275,
     "metadata": {},
     "output_type": "execute_result"
    }
   ],
   "source": [
    "print(\"Confusion matrix for test dataset prediction\")\n",
    "\n",
    "print(\"\\nPrediction on Test dataset\")\n",
    "cm_rf = confusion_matrix(Pred_values.Actual, Pred_values.Predicted)\n",
    "disp = ConfusionMatrixDisplay(confusion_matrix=cm_rf)\n",
    "disp.plot()\n",
    "plt.show()\n",
    "print(classification_report(Pred_values.Actual, Pred_values.Predicted))\n",
    "Pred_values"
   ]
  }
 ],
 "metadata": {
  "kernelspec": {
   "display_name": "Python 3 (ipykernel)",
   "language": "python",
   "name": "python3"
  },
  "language_info": {
   "codemirror_mode": {
    "name": "ipython",
    "version": 3
   },
   "file_extension": ".py",
   "mimetype": "text/x-python",
   "name": "python",
   "nbconvert_exporter": "python",
   "pygments_lexer": "ipython3",
   "version": "3.9.7"
  }
 },
 "nbformat": 4,
 "nbformat_minor": 5
}
